{
  "nbformat": 4,
  "nbformat_minor": 0,
  "metadata": {
    "colab": {
      "name": "Classification Model.ipynb",
      "provenance": [],
      "authorship_tag": "ABX9TyNI3WGIG3H96iBed/Mb5qog",
      "include_colab_link": true
    },
    "kernelspec": {
      "name": "python3",
      "display_name": "Python 3"
    }
  },
  "cells": [
    {
      "cell_type": "markdown",
      "metadata": {
        "id": "view-in-github",
        "colab_type": "text"
      },
      "source": [
        "<a href=\"https://colab.research.google.com/github/brugalbryan/Artificial-Intelligence/blob/main/Classification_Model.ipynb\" target=\"_parent\"><img src=\"https://colab.research.google.com/assets/colab-badge.svg\" alt=\"Open In Colab\"/></a>"
      ]
    },
    {
      "cell_type": "code",
      "metadata": {
        "id": "GZ3QLOOk8bE5"
      },
      "source": [
        "import numpy as np\n",
        "import pandas as pd\n",
        "import matplotlib.pyplot as plt\n",
        "%matplotlib inline\n",
        "from sklearn.metrics import accuracy_score\n",
        "\n",
        "url = \"https://raw.githubusercontent.com/empathy87/The-Elements-of-Statistical-Learning-Python-Notebooks/master/data/mixture.txt\"\n",
        "\n",
        "# Load to Python as a data frame\n",
        "raw_data = pd.read_csv(url, sep=',')\n",
        "\n",
        "#build a SVM model on the new training set\n",
        "from sklearn.model_selection import train_test_split"
      ],
      "execution_count": null,
      "outputs": []
    },
    {
      "cell_type": "code",
      "metadata": {
        "id": "5aY1CgyWCQTj"
      },
      "source": [
        "# Split the raw_data into training_data and test_data (20%)\n",
        "training_data, test_data = train_test_split(raw_data, test_size=0.2)"
      ],
      "execution_count": null,
      "outputs": []
    },
    {
      "cell_type": "code",
      "metadata": {
        "colab": {
          "base_uri": "https://localhost:8080/"
        },
        "id": "_9rcjSRUCTOB",
        "outputId": "c3a51b9c-8a2b-428a-bef3-314578aeae57"
      },
      "source": [
        "# kNN model\n",
        "from sklearn.neighbors import KNeighborsClassifier\n",
        "model_1nn = KNeighborsClassifier(n_neighbors=1)\n",
        "model_1nn.fit(training_data[['x1', 'x2']], training_data['y'])"
      ],
      "execution_count": null,
      "outputs": [
        {
          "output_type": "execute_result",
          "data": {
            "text/plain": [
              "KNeighborsClassifier(algorithm='auto', leaf_size=30, metric='minkowski',\n",
              "                     metric_params=None, n_jobs=None, n_neighbors=1, p=2,\n",
              "                     weights='uniform')"
            ]
          },
          "metadata": {
            "tags": []
          },
          "execution_count": 3
        }
      ]
    },
    {
      "cell_type": "code",
      "metadata": {
        "colab": {
          "base_uri": "https://localhost:8080/"
        },
        "id": "U7FjwyNMCWQN",
        "outputId": "26388f6a-083f-4e47-a670-a738f0f8b1ca"
      },
      "source": [
        "test_data[\"prediction\"] = model_1nn.predict(test_data[[\"x1\",\"x2\"]])"
      ],
      "execution_count": null,
      "outputs": [
        {
          "output_type": "stream",
          "text": [
            "/usr/local/lib/python3.7/dist-packages/ipykernel_launcher.py:1: SettingWithCopyWarning: \n",
            "A value is trying to be set on a copy of a slice from a DataFrame.\n",
            "Try using .loc[row_indexer,col_indexer] = value instead\n",
            "\n",
            "See the caveats in the documentation: https://pandas.pydata.org/pandas-docs/stable/user_guide/indexing.html#returning-a-view-versus-a-copy\n",
            "  \"\"\"Entry point for launching an IPython kernel.\n"
          ],
          "name": "stderr"
        }
      ]
    },
    {
      "cell_type": "code",
      "metadata": {
        "id": "dUWcnM4LDFak"
      },
      "source": [
        "blue_pts = raw_data[raw_data['y'] == 0]\n",
        "red_pts = raw_data[raw_data['y'] == 1]"
      ],
      "execution_count": null,
      "outputs": []
    },
    {
      "cell_type": "code",
      "metadata": {
        "colab": {
          "base_uri": "https://localhost:8080/",
          "height": 204
        },
        "id": "eeFtnSmXCt7o",
        "outputId": "f025a24b-f382-4956-c2ed-8362b2ae1370"
      },
      "source": [
        "# How to evaluate the kNN model?\n",
        "\n",
        "# Visualize the decision region.\n",
        "\n",
        "# 1. create a 100 * 100 grid of points to cover the entire plane.\n",
        "plot_data = pd.DataFrame()\n",
        "x1_coordinates = np.linspace(-3, 4, 100) # sample 100 points per row\n",
        "x2_coordinates = np.linspace(-2, 3, 100) # sample 100 rows (total: 100 * 100 = 10,000 points)\n",
        "for x1 in x1_coordinates:\n",
        "    for x2 in x2_coordinates:\n",
        "        plot_data = plot_data.append({'x1': x1,\n",
        "                               'x2': x2},\n",
        "                              ignore_index=True)\n",
        "plot_data\n",
        "\n",
        "# 2. use the kNN model to make a prediction on each of the 10,000 points.\n",
        "plot_data['prediction'] = model_1nn.predict(plot_data[['x1', 'x2']])\n",
        "plot_data.head()"
      ],
      "execution_count": null,
      "outputs": [
        {
          "output_type": "execute_result",
          "data": {
            "text/html": [
              "<div>\n",
              "<style scoped>\n",
              "    .dataframe tbody tr th:only-of-type {\n",
              "        vertical-align: middle;\n",
              "    }\n",
              "\n",
              "    .dataframe tbody tr th {\n",
              "        vertical-align: top;\n",
              "    }\n",
              "\n",
              "    .dataframe thead th {\n",
              "        text-align: right;\n",
              "    }\n",
              "</style>\n",
              "<table border=\"1\" class=\"dataframe\">\n",
              "  <thead>\n",
              "    <tr style=\"text-align: right;\">\n",
              "      <th></th>\n",
              "      <th>x1</th>\n",
              "      <th>x2</th>\n",
              "      <th>prediction</th>\n",
              "    </tr>\n",
              "  </thead>\n",
              "  <tbody>\n",
              "    <tr>\n",
              "      <th>0</th>\n",
              "      <td>-3.0</td>\n",
              "      <td>-2.000000</td>\n",
              "      <td>1</td>\n",
              "    </tr>\n",
              "    <tr>\n",
              "      <th>1</th>\n",
              "      <td>-3.0</td>\n",
              "      <td>-1.949495</td>\n",
              "      <td>1</td>\n",
              "    </tr>\n",
              "    <tr>\n",
              "      <th>2</th>\n",
              "      <td>-3.0</td>\n",
              "      <td>-1.898990</td>\n",
              "      <td>1</td>\n",
              "    </tr>\n",
              "    <tr>\n",
              "      <th>3</th>\n",
              "      <td>-3.0</td>\n",
              "      <td>-1.848485</td>\n",
              "      <td>1</td>\n",
              "    </tr>\n",
              "    <tr>\n",
              "      <th>4</th>\n",
              "      <td>-3.0</td>\n",
              "      <td>-1.797980</td>\n",
              "      <td>1</td>\n",
              "    </tr>\n",
              "  </tbody>\n",
              "</table>\n",
              "</div>"
            ],
            "text/plain": [
              "    x1        x2  prediction\n",
              "0 -3.0 -2.000000           1\n",
              "1 -3.0 -1.949495           1\n",
              "2 -3.0 -1.898990           1\n",
              "3 -3.0 -1.848485           1\n",
              "4 -3.0 -1.797980           1"
            ]
          },
          "metadata": {
            "tags": []
          },
          "execution_count": 6
        }
      ]
    },
    {
      "cell_type": "code",
      "metadata": {
        "colab": {
          "base_uri": "https://localhost:8080/",
          "height": 282
        },
        "id": "LgKTb4LuCyTz",
        "outputId": "34a295bb-f81c-4bd1-90ad-6a5d5680da77"
      },
      "source": [
        "# plot these points: points classified as 0 should be visualized as blue points,\n",
        "# points classified as 1 should be visualized as red points.\n",
        "\n",
        "test_data_blue = plot_data[plot_data['prediction'] == 0]\n",
        "test_data_red = plot_data[plot_data['prediction'] == 1]\n",
        "plt.plot(test_data_blue['x1'], test_data_blue['x2'], 'b.', alpha=0.1)\n",
        "plt.plot(test_data_red['x1'], test_data_red['x2'], 'r.', alpha=0.1)\n",
        "plt.plot(blue_pts['x1'], blue_pts['x2'], 'b^', label='y = 0')\n",
        "plt.plot(red_pts['x1'], red_pts['x2'], 'r^', label='y = 1')"
      ],
      "execution_count": null,
      "outputs": [
        {
          "output_type": "execute_result",
          "data": {
            "text/plain": [
              "[<matplotlib.lines.Line2D at 0x7fd71de6fb10>]"
            ]
          },
          "metadata": {
            "tags": []
          },
          "execution_count": 7
        },
        {
          "output_type": "display_data",
          "data": {
            "image/png": "[encoded data removed]",
            "text/plain": [
              "<Figure size 432x288 with 1 Axes>"
            ]
          },
          "metadata": {
            "tags": [],
            "needs_background": "light"
          }
        }
      ]
    },
    {
      "cell_type": "code",
      "metadata": {
        "colab": {
          "base_uri": "https://localhost:8080/"
        },
        "id": "nE064TBYC1Q1",
        "outputId": "248cf201-7e52-47e7-a019-2817d863104d"
      },
      "source": [
        "test_data[\"knn1\"] = model_1nn.predict(test_data[[\"x1\",\"x2\"]])\n",
        "# Calculate the prediction accuracy on training data knn = 1.\n",
        "accuracy_score(test_data['y'], test_data[\"knn1\"])"
      ],
      "execution_count": null,
      "outputs": [
        {
          "output_type": "stream",
          "text": [
            "/usr/local/lib/python3.7/dist-packages/ipykernel_launcher.py:1: SettingWithCopyWarning: \n",
            "A value is trying to be set on a copy of a slice from a DataFrame.\n",
            "Try using .loc[row_indexer,col_indexer] = value instead\n",
            "\n",
            "See the caveats in the documentation: https://pandas.pydata.org/pandas-docs/stable/user_guide/indexing.html#returning-a-view-versus-a-copy\n",
            "  \"\"\"Entry point for launching an IPython kernel.\n"
          ],
          "name": "stderr"
        },
        {
          "output_type": "execute_result",
          "data": {
            "text/plain": [
              "0.725"
            ]
          },
          "metadata": {
            "tags": []
          },
          "execution_count": 8
        }
      ]
    },
    {
      "cell_type": "code",
      "metadata": {
        "colab": {
          "base_uri": "https://localhost:8080/"
        },
        "id": "DZ3lMT5-EGbb",
        "outputId": "4be8b809-88ee-46ac-8af6-3189cd9b3f8d"
      },
      "source": [
        "# kNN model\n",
        "from sklearn.neighbors import KNeighborsClassifier\n",
        "model_5nn = KNeighborsClassifier(n_neighbors=5)\n",
        "model_5nn.fit(training_data[['x1', 'x2']], training_data['y'])"
      ],
      "execution_count": null,
      "outputs": [
        {
          "output_type": "execute_result",
          "data": {
            "text/plain": [
              "KNeighborsClassifier(algorithm='auto', leaf_size=30, metric='minkowski',\n",
              "                     metric_params=None, n_jobs=None, n_neighbors=5, p=2,\n",
              "                     weights='uniform')"
            ]
          },
          "metadata": {
            "tags": []
          },
          "execution_count": 9
        }
      ]
    },
    {
      "cell_type": "code",
      "metadata": {
        "colab": {
          "base_uri": "https://localhost:8080/"
        },
        "id": "j1ffqJkAEiwc",
        "outputId": "2214ae79-9720-4bde-defd-8e79c7c83be9"
      },
      "source": [
        "test_data[\"prediction\"] = model_5nn.predict(test_data[[\"x1\",\"x2\"]])\n",
        "test_data.head()\n",
        "\n",
        "# 2. use the kNN model to make a prediction on each of the 10,000 points.\n",
        "plot_data['prediction'] = model_5nn.predict(plot_data[['x1', 'x2']])\n",
        "# plot_data.head()"
      ],
      "execution_count": null,
      "outputs": [
        {
          "output_type": "stream",
          "text": [
            "/usr/local/lib/python3.7/dist-packages/ipykernel_launcher.py:1: SettingWithCopyWarning: \n",
            "A value is trying to be set on a copy of a slice from a DataFrame.\n",
            "Try using .loc[row_indexer,col_indexer] = value instead\n",
            "\n",
            "See the caveats in the documentation: https://pandas.pydata.org/pandas-docs/stable/user_guide/indexing.html#returning-a-view-versus-a-copy\n",
            "  \"\"\"Entry point for launching an IPython kernel.\n"
          ],
          "name": "stderr"
        }
      ]
    },
    {
      "cell_type": "code",
      "metadata": {
        "colab": {
          "base_uri": "https://localhost:8080/",
          "height": 282
        },
        "id": "KdlTVhfyEuNo",
        "outputId": "0a15c6e8-9ee5-4511-b215-59e08b9d3456"
      },
      "source": [
        "# 3. plot these points: points classified as 0 should be visualized as blue points,\n",
        "#   points classified as 1 should be visualized as red points.\n",
        "\n",
        "test_data_blue = plot_data[plot_data['prediction'] == 0]\n",
        "test_data_red = plot_data[plot_data['prediction'] == 1]\n",
        "plt.plot(test_data_blue['x1'], test_data_blue['x2'], 'b.', alpha=0.1)\n",
        "plt.plot(test_data_red['x1'], test_data_red['x2'], 'r.', alpha=0.1)\n",
        "plt.plot(blue_pts['x1'], blue_pts['x2'], 'b^', label='y = 0')\n",
        "plt.plot(red_pts['x1'], red_pts['x2'], 'r^', label='y = 1')\n"
      ],
      "execution_count": null,
      "outputs": [
        {
          "output_type": "execute_result",
          "data": {
            "text/plain": [
              "[<matplotlib.lines.Line2D at 0x7fd71d968410>]"
            ]
          },
          "metadata": {
            "tags": []
          },
          "execution_count": 11
        },
        {
          "output_type": "display_data",
          "data": {
            "image/png": "[encoded data removed]",
            "text/plain": [
              "<Figure size 432x288 with 1 Axes>"
            ]
          },
          "metadata": {
            "tags": [],
            "needs_background": "light"
          }
        }
      ]
    },
    {
      "cell_type": "code",
      "metadata": {
        "colab": {
          "base_uri": "https://localhost:8080/"
        },
        "id": "4-BEGOgaMp0f",
        "outputId": "a7a5946e-8c29-4eb8-f790-423c5b787c9e"
      },
      "source": [
        "test_data[\"knn5\"] = model_5nn.predict(test_data[[\"x1\",\"x2\"]])\n",
        "# Calculate the prediction accuracy on training data knn = 5.\n",
        "accuracy_score(test_data['y'], test_data[\"knn5\"])\n"
      ],
      "execution_count": null,
      "outputs": [
        {
          "output_type": "stream",
          "text": [
            "/usr/local/lib/python3.7/dist-packages/ipykernel_launcher.py:1: SettingWithCopyWarning: \n",
            "A value is trying to be set on a copy of a slice from a DataFrame.\n",
            "Try using .loc[row_indexer,col_indexer] = value instead\n",
            "\n",
            "See the caveats in the documentation: https://pandas.pydata.org/pandas-docs/stable/user_guide/indexing.html#returning-a-view-versus-a-copy\n",
            "  \"\"\"Entry point for launching an IPython kernel.\n"
          ],
          "name": "stderr"
        },
        {
          "output_type": "execute_result",
          "data": {
            "text/plain": [
              "0.85"
            ]
          },
          "metadata": {
            "tags": []
          },
          "execution_count": 12
        }
      ]
    },
    {
      "cell_type": "code",
      "metadata": {
        "colab": {
          "base_uri": "https://localhost:8080/"
        },
        "id": "5_ntylW8OELy",
        "outputId": "3871fcae-f869-40b6-8087-ad53ba1a81a2"
      },
      "source": [
        "# kNN model\n",
        "from sklearn.neighbors import KNeighborsClassifier\n",
        "model_25nn = KNeighborsClassifier(n_neighbors=25)\n",
        "model_25nn.fit(training_data[['x1', 'x2']], training_data['y'])"
      ],
      "execution_count": null,
      "outputs": [
        {
          "output_type": "execute_result",
          "data": {
            "text/plain": [
              "KNeighborsClassifier(algorithm='auto', leaf_size=30, metric='minkowski',\n",
              "                     metric_params=None, n_jobs=None, n_neighbors=25, p=2,\n",
              "                     weights='uniform')"
            ]
          },
          "metadata": {
            "tags": []
          },
          "execution_count": 13
        }
      ]
    },
    {
      "cell_type": "code",
      "metadata": {
        "colab": {
          "base_uri": "https://localhost:8080/"
        },
        "id": "iZR96kX7OQoD",
        "outputId": "579c04fe-5df2-4b48-c5d5-a34cff33496a"
      },
      "source": [
        "test_data[\"prediction\"] = model_25nn.predict(test_data[[\"x1\",\"x2\"]])\n",
        "test_data.head()\n",
        "\n",
        "# 2. use the kNN model to make a prediction on each of the 10,000 points.\n",
        "plot_data['prediction'] = model_25nn.predict(plot_data[['x1', 'x2']])"
      ],
      "execution_count": null,
      "outputs": [
        {
          "output_type": "stream",
          "text": [
            "/usr/local/lib/python3.7/dist-packages/ipykernel_launcher.py:1: SettingWithCopyWarning: \n",
            "A value is trying to be set on a copy of a slice from a DataFrame.\n",
            "Try using .loc[row_indexer,col_indexer] = value instead\n",
            "\n",
            "See the caveats in the documentation: https://pandas.pydata.org/pandas-docs/stable/user_guide/indexing.html#returning-a-view-versus-a-copy\n",
            "  \"\"\"Entry point for launching an IPython kernel.\n"
          ],
          "name": "stderr"
        }
      ]
    },
    {
      "cell_type": "code",
      "metadata": {
        "colab": {
          "base_uri": "https://localhost:8080/",
          "height": 282
        },
        "id": "Etg_f0bWOVkK",
        "outputId": "8ef3de75-70eb-4534-8701-a55556e79e84"
      },
      "source": [
        "# 3. plot these points: points classified as 0 should be visualized as blue points,\n",
        "#   points classified as 1 should be visualized as red points.\n",
        "\n",
        "test_data_blue = plot_data[plot_data['prediction'] == 0]\n",
        "test_data_red = plot_data[plot_data['prediction'] == 1]\n",
        "plt.plot(test_data_blue['x1'], test_data_blue['x2'], 'b.', alpha=0.1)\n",
        "plt.plot(test_data_red['x1'], test_data_red['x2'], 'r.', alpha=0.1)\n",
        "plt.plot(blue_pts['x1'], blue_pts['x2'], 'b^', label='y = 0')\n",
        "plt.plot(red_pts['x1'], red_pts['x2'], 'r^', label='y = 1')"
      ],
      "execution_count": null,
      "outputs": [
        {
          "output_type": "execute_result",
          "data": {
            "text/plain": [
              "[<matplotlib.lines.Line2D at 0x7fd71d8e7650>]"
            ]
          },
          "metadata": {
            "tags": []
          },
          "execution_count": 15
        },
        {
          "output_type": "display_data",
          "data": {
            "image/png": "[encoded data removed]",
            "text/plain": [
              "<Figure size 432x288 with 1 Axes>"
            ]
          },
          "metadata": {
            "tags": [],
            "needs_background": "light"
          }
        }
      ]
    },
    {
      "cell_type": "code",
      "metadata": {
        "colab": {
          "base_uri": "https://localhost:8080/"
        },
        "id": "3aKt3klMPCoZ",
        "outputId": "07a8711f-9105-46d4-cf17-dee20afe59dc"
      },
      "source": [
        "test_data[\"knn25\"] = model_25nn.predict(test_data[[\"x1\",\"x2\"]])\n",
        "# Calculate the prediction accuracy on training data knn = 25.\n",
        "accuracy_score(test_data['y'], test_data[\"knn25\"])"
      ],
      "execution_count": null,
      "outputs": [
        {
          "output_type": "stream",
          "text": [
            "/usr/local/lib/python3.7/dist-packages/ipykernel_launcher.py:1: SettingWithCopyWarning: \n",
            "A value is trying to be set on a copy of a slice from a DataFrame.\n",
            "Try using .loc[row_indexer,col_indexer] = value instead\n",
            "\n",
            "See the caveats in the documentation: https://pandas.pydata.org/pandas-docs/stable/user_guide/indexing.html#returning-a-view-versus-a-copy\n",
            "  \"\"\"Entry point for launching an IPython kernel.\n"
          ],
          "name": "stderr"
        },
        {
          "output_type": "execute_result",
          "data": {
            "text/plain": [
              "0.775"
            ]
          },
          "metadata": {
            "tags": []
          },
          "execution_count": 16
        }
      ]
    }
  ]
}