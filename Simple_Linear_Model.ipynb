{
  "nbformat": 4,
  "nbformat_minor": 0,
  "metadata": {
    "colab": {
      "name": "Simple Linear Model.ipynb",
      "provenance": [],
      "collapsed_sections": [],
      "authorship_tag": "ABX9TyMwKt8HLkd3PL/BzJN4djcN",
      "include_colab_link": true
    },
    "kernelspec": {
      "name": "python3",
      "display_name": "Python 3"
    }
  },
  "cells": [
    {
      "cell_type": "markdown",
      "metadata": {
        "id": "view-in-github",
        "colab_type": "text"
      },
      "source": [
        "<a href=\"https://colab.research.google.com/github/brugalbryan/Artificial-Intelligence/blob/main/Simple_Linear_Model.ipynb\" target=\"_parent\"><img src=\"https://colab.research.google.com/assets/colab-badge.svg\" alt=\"Open In Colab\"/></a>"
      ]
    },
    {
      "cell_type": "code",
      "metadata": {
        "id": "XRhjrQr7OR-x"
      },
      "source": [
        "import numpy as np  # scientific computation\n",
        "import pandas as pd  # data handling\n",
        "import matplotlib.pyplot as plt  # plotting\n",
        "# The following \"magic command\" allows figures to be displayed automatically in notebook\n",
        "%matplotlib inline  "
      ],
      "execution_count": null,
      "outputs": []
    },
    {
      "cell_type": "code",
      "metadata": {
        "id": "FtdCmIBsPodH",
        "colab": {
          "base_uri": "https://localhost:8080/",
          "height": 328
        },
        "outputId": "6ab39c21-3294-42b5-baa2-60eefce17d59"
      },
      "source": [
        "raw_data = pd.read_csv(\"average-height-of-men-for-selected-countries.csv\", sep=',')\n",
        "raw_data.head()\n",
        "data = raw_data[raw_data['Entity'] == \"United Kingdom\"]\n",
        "data.head()\n",
        "\n",
        "# Extract USA data since 1900.\n",
        "filter2 = (data[\"Year\"] >= 1900)\n",
        "data = data[filter2]\n",
        "data"
      ],
      "execution_count": null,
      "outputs": [
        {
          "output_type": "execute_result",
          "data": {
            "text/html": [
              "<div>\n",
              "<style scoped>\n",
              "    .dataframe tbody tr th:only-of-type {\n",
              "        vertical-align: middle;\n",
              "    }\n",
              "\n",
              "    .dataframe tbody tr th {\n",
              "        vertical-align: top;\n",
              "    }\n",
              "\n",
              "    .dataframe thead th {\n",
              "        text-align: right;\n",
              "    }\n",
              "</style>\n",
              "<table border=\"1\" class=\"dataframe\">\n",
              "  <thead>\n",
              "    <tr style=\"text-align: right;\">\n",
              "      <th></th>\n",
              "      <th>Entity</th>\n",
              "      <th>Code</th>\n",
              "      <th>Year</th>\n",
              "      <th>Human Height (University of Tuebingen (2015))</th>\n",
              "    </tr>\n",
              "  </thead>\n",
              "  <tbody>\n",
              "    <tr>\n",
              "      <th>1185</th>\n",
              "      <td>United Kingdom</td>\n",
              "      <td>GBR</td>\n",
              "      <td>1900</td>\n",
              "      <td>169.4</td>\n",
              "    </tr>\n",
              "    <tr>\n",
              "      <th>1186</th>\n",
              "      <td>United Kingdom</td>\n",
              "      <td>GBR</td>\n",
              "      <td>1910</td>\n",
              "      <td>170.9</td>\n",
              "    </tr>\n",
              "    <tr>\n",
              "      <th>1187</th>\n",
              "      <td>United Kingdom</td>\n",
              "      <td>GBR</td>\n",
              "      <td>1920</td>\n",
              "      <td>171.0</td>\n",
              "    </tr>\n",
              "    <tr>\n",
              "      <th>1188</th>\n",
              "      <td>United Kingdom</td>\n",
              "      <td>GBR</td>\n",
              "      <td>1930</td>\n",
              "      <td>173.9</td>\n",
              "    </tr>\n",
              "    <tr>\n",
              "      <th>1189</th>\n",
              "      <td>United Kingdom</td>\n",
              "      <td>GBR</td>\n",
              "      <td>1940</td>\n",
              "      <td>174.9</td>\n",
              "    </tr>\n",
              "    <tr>\n",
              "      <th>1190</th>\n",
              "      <td>United Kingdom</td>\n",
              "      <td>GBR</td>\n",
              "      <td>1950</td>\n",
              "      <td>176.0</td>\n",
              "    </tr>\n",
              "    <tr>\n",
              "      <th>1191</th>\n",
              "      <td>United Kingdom</td>\n",
              "      <td>GBR</td>\n",
              "      <td>1960</td>\n",
              "      <td>176.9</td>\n",
              "    </tr>\n",
              "    <tr>\n",
              "      <th>1192</th>\n",
              "      <td>United Kingdom</td>\n",
              "      <td>GBR</td>\n",
              "      <td>1970</td>\n",
              "      <td>177.1</td>\n",
              "    </tr>\n",
              "    <tr>\n",
              "      <th>1193</th>\n",
              "      <td>United Kingdom</td>\n",
              "      <td>GBR</td>\n",
              "      <td>1980</td>\n",
              "      <td>176.8</td>\n",
              "    </tr>\n",
              "  </tbody>\n",
              "</table>\n",
              "</div>"
            ],
            "text/plain": [
              "              Entity Code  Year  Human Height (University of Tuebingen (2015))\n",
              "1185  United Kingdom  GBR  1900                                          169.4\n",
              "1186  United Kingdom  GBR  1910                                          170.9\n",
              "1187  United Kingdom  GBR  1920                                          171.0\n",
              "1188  United Kingdom  GBR  1930                                          173.9\n",
              "1189  United Kingdom  GBR  1940                                          174.9\n",
              "1190  United Kingdom  GBR  1950                                          176.0\n",
              "1191  United Kingdom  GBR  1960                                          176.9\n",
              "1192  United Kingdom  GBR  1970                                          177.1\n",
              "1193  United Kingdom  GBR  1980                                          176.8"
            ]
          },
          "metadata": {
            "tags": []
          },
          "execution_count": 95
        }
      ]
    },
    {
      "cell_type": "code",
      "metadata": {
        "colab": {
          "base_uri": "https://localhost:8080/",
          "height": 359
        },
        "id": "3wC-XrLGStuw",
        "outputId": "b0a622f8-bb94-4c75-8956-497e82a0d799"
      },
      "source": [
        "data = data.set_index([\"Year\"])\n",
        "data.head()\n",
        "\n",
        "data.drop([\"Entity\", 'Code'], axis=1, inplace=True) \n",
        "\n",
        "data = data.rename(columns={'Human Height (University of Tuebingen (2015))': \"Height(cm)\"})\n",
        "data"
      ],
      "execution_count": null,
      "outputs": [
        {
          "output_type": "execute_result",
          "data": {
            "text/html": [
              "<div>\n",
              "<style scoped>\n",
              "    .dataframe tbody tr th:only-of-type {\n",
              "        vertical-align: middle;\n",
              "    }\n",
              "\n",
              "    .dataframe tbody tr th {\n",
              "        vertical-align: top;\n",
              "    }\n",
              "\n",
              "    .dataframe thead th {\n",
              "        text-align: right;\n",
              "    }\n",
              "</style>\n",
              "<table border=\"1\" class=\"dataframe\">\n",
              "  <thead>\n",
              "    <tr style=\"text-align: right;\">\n",
              "      <th></th>\n",
              "      <th>Height(cm)</th>\n",
              "    </tr>\n",
              "    <tr>\n",
              "      <th>Year</th>\n",
              "      <th></th>\n",
              "    </tr>\n",
              "  </thead>\n",
              "  <tbody>\n",
              "    <tr>\n",
              "      <th>1900</th>\n",
              "      <td>169.4</td>\n",
              "    </tr>\n",
              "    <tr>\n",
              "      <th>1910</th>\n",
              "      <td>170.9</td>\n",
              "    </tr>\n",
              "    <tr>\n",
              "      <th>1920</th>\n",
              "      <td>171.0</td>\n",
              "    </tr>\n",
              "    <tr>\n",
              "      <th>1930</th>\n",
              "      <td>173.9</td>\n",
              "    </tr>\n",
              "    <tr>\n",
              "      <th>1940</th>\n",
              "      <td>174.9</td>\n",
              "    </tr>\n",
              "    <tr>\n",
              "      <th>1950</th>\n",
              "      <td>176.0</td>\n",
              "    </tr>\n",
              "    <tr>\n",
              "      <th>1960</th>\n",
              "      <td>176.9</td>\n",
              "    </tr>\n",
              "    <tr>\n",
              "      <th>1970</th>\n",
              "      <td>177.1</td>\n",
              "    </tr>\n",
              "    <tr>\n",
              "      <th>1980</th>\n",
              "      <td>176.8</td>\n",
              "    </tr>\n",
              "  </tbody>\n",
              "</table>\n",
              "</div>"
            ],
            "text/plain": [
              "      Height(cm)\n",
              "Year            \n",
              "1900       169.4\n",
              "1910       170.9\n",
              "1920       171.0\n",
              "1930       173.9\n",
              "1940       174.9\n",
              "1950       176.0\n",
              "1960       176.9\n",
              "1970       177.1\n",
              "1980       176.8"
            ]
          },
          "metadata": {
            "tags": []
          },
          "execution_count": 96
        }
      ]
    },
    {
      "cell_type": "code",
      "metadata": {
        "colab": {
          "base_uri": "https://localhost:8080/"
        },
        "id": "VRCg9bTbZFYZ",
        "outputId": "710fd4f0-12a1-4005-f915-1c57651bcceb"
      },
      "source": [
        "#Calculate the average increase per year between 1900 and 1980\n",
        "#slope of the line connecting these two points?\n",
        "# find the value of b so that point\n",
        "roc = []\n",
        "for year in data.index:\n",
        "  if year == 1900:\n",
        "    continue\n",
        "  else:\n",
        "    before = year - 10\n",
        "    height = data.loc[year, 'Height(cm)'] - \\\n",
        "    data.loc[before, 'Height(cm)']\n",
        "    rate = (height / 10)\n",
        "    roc.append(rate)\n",
        "\n",
        "# Getting values of M and B for modeling\n",
        "m = np.mean(roc)\n",
        "b = data.loc[1900, 'Height(cm)'] - m * 1900\n",
        "\n",
        "print(\"Slope:\", m, \"\\nY-Intercept:\",b)\n"
      ],
      "execution_count": null,
      "outputs": [
        {
          "output_type": "stream",
          "text": [
            "Slope: 0.09250000000000008 \n",
            "Y-Intercept: -6.350000000000136\n"
          ],
          "name": "stdout"
        }
      ]
    },
    {
      "cell_type": "code",
      "metadata": {
        "colab": {
          "base_uri": "https://localhost:8080/",
          "height": 282
        },
        "id": "ewWG_tGAZxt1",
        "outputId": "6efd2689-cc75-4bd5-f7ee-230ddcda4544"
      },
      "source": [
        "xCoord = np.linspace(1900, 1980, 100)\n",
        "yCoord = m * xCoord + b\n",
        "years = data.index\n",
        "heights = data['Height(cm)']\n",
        "plt.plot(xCoord, yCoord, 'g-')\n",
        "plt.plot(years, heights, 'b.')"
      ],
      "execution_count": null,
      "outputs": [
        {
          "output_type": "execute_result",
          "data": {
            "text/plain": [
              "[<matplotlib.lines.Line2D at 0x7faaca06b208>]"
            ]
          },
          "metadata": {
            "tags": []
          },
          "execution_count": 98
        },
        {
          "output_type": "display_data",
          "data": {
            "image/png": "[encoded data removed]",
            "text/plain": [
              "<Figure size 432x288 with 1 Axes>"
            ]
          },
          "metadata": {
            "tags": [],
            "needs_background": "light"
          }
        }
      ]
    },
    {
      "cell_type": "code",
      "metadata": {
        "colab": {
          "base_uri": "https://localhost:8080/"
        },
        "id": "lsZett4RarbU",
        "outputId": "9cd81c4d-e422-4b08-f1c5-e3fdef47130c"
      },
      "source": [
        "# Calculate errors for each year\n",
        "\n",
        "# all the years are contained in data.index \n",
        "\n",
        "errors = []\n",
        "\n",
        "for year in data.index:\n",
        "    # Calculate the squared error for that year\n",
        "    x = year\n",
        "    y = data.loc[x, 'Height(cm)']\n",
        "    prediction = m * x + b\n",
        "    error = (prediction - y) ** 2\n",
        "\n",
        "    # append the error to the errors list\n",
        "    errors.append(error)\n",
        "\n",
        "# Now you should have a list of errors.\n",
        "print(\"Errors for each year:\\n\", errors)"
      ],
      "execution_count": null,
      "outputs": [
        {
          "output_type": "stream",
          "text": [
            "Errors for each year:\n",
            " [0.0, 0.3306249999999869, 0.06250000000001421, 2.9756249999999804, 3.2399999999999385, 3.9006249999998652, 3.802499999999956, 1.5006249999999164, 8.077935669463161e-28]\n"
          ],
          "name": "stdout"
        }
      ]
    },
    {
      "cell_type": "code",
      "metadata": {
        "colab": {
          "base_uri": "https://localhost:8080/"
        },
        "id": "HwFzkgWJbB__",
        "outputId": "8f4990b2-dfc9-466a-f147-491cbb897e96"
      },
      "source": [
        "# Calculate the mean squared error, use np.mean() function\n",
        "mse = np.mean(errors)\n",
        "print(\"The mean squared error is: {:0.6f}.\\n\".format(mse))"
      ],
      "execution_count": null,
      "outputs": [
        {
          "output_type": "stream",
          "text": [
            "The mean squared error is: 1.756944.\n",
            "\n"
          ],
          "name": "stdout"
        }
      ]
    }
  ]
}