{
  "nbformat": 4,
  "nbformat_minor": 0,
  "metadata": {
    "colab": {
      "name": "Python Programming.ipynb",
      "provenance": [],
      "collapsed_sections": [],
      "include_colab_link": true
    },
    "kernelspec": {
      "name": "python3",
      "display_name": "Python 3"
    }
  },
  "cells": [
    {
      "cell_type": "markdown",
      "metadata": {
        "id": "view-in-github",
        "colab_type": "text"
      },
      "source": [
        "<a href=\"https://colab.research.google.com/github/brugalbryan/artificial-intelligence/blob/main/Python_Programming.ipynb\" target=\"_parent\"><img src=\"https://colab.research.google.com/assets/colab-badge.svg\" alt=\"Open In Colab\"/></a>"
      ]
    },
    {
      "cell_type": "code",
      "metadata": {
        "colab": {
          "base_uri": "https://localhost:8080/"
        },
        "id": "gya34BNdTzfm",
        "outputId": "b0bd667e-b230-4426-e8fb-ac7f10552bee"
      },
      "source": [
        "year = [1900, 1910, 1920, 1930, 1940, 1950, 1960, 1970, 1980]\n",
        "height = [170, 172.1, 173.1, 173.4, 176.1, 177.1, 177.3, 178.3, 179]\n",
        "\n",
        "dict = {}\n",
        "\n",
        "rates = []\n",
        "for n in [0, 1, 2, 3, 4, 5, 6, 7]:\n",
        "    decade = '{0:.5%}'.format((height[n+1] - height[n]) / height[n])\n",
        "    rates.append(decade)\n",
        "    #print(\"Total average for %(n)s is %(s)s\" % {'n': year, 's':decade})\n",
        "   \n",
        "    print(\"Total average for\", year[n], \"-\",  year[n+1],\" is \", decade)\n",
        "    \n",
        "    dict[year[n], year[n+1]] = decade\n",
        "\n",
        "    n+=1\n",
        "    \n",
        "largest_number = max(dict, key=dict.get)\n",
        "print(\"The decade that men's height increased the fastest is:\",str(largest_number),\"=\",dict[largest_number])"
      ],
      "execution_count": null,
      "outputs": [
        {
          "output_type": "stream",
          "text": [
            "Total average for 1900 - 1910  is  1.23529%\n",
            "Total average for 1910 - 1920  is  0.58106%\n",
            "Total average for 1920 - 1930  is  0.17331%\n",
            "Total average for 1930 - 1940  is  1.55709%\n",
            "Total average for 1940 - 1950  is  0.56786%\n",
            "Total average for 1950 - 1960  is  0.11293%\n",
            "Total average for 1960 - 1970  is  0.56402%\n",
            "Total average for 1970 - 1980  is  0.39260%\n",
            "The decade that men's height increased the fastest is: (1930, 1940) = 1.55709%\n"
          ],
          "name": "stdout"
        }
      ]
    }
  ]
}