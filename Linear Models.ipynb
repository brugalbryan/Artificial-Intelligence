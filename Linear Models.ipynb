{
  "nbformat": 4,
  "nbformat_minor": 0,
  "metadata": {
    "colab": {
      "name": "Polynomial.ipynb",
      "provenance": [],
      "collapsed_sections": [],
      "include_colab_link": true
    },
    "kernelspec": {
      "name": "python3",
      "display_name": "Python 3"
    }
  },
  "cells": [
    {
      "cell_type": "markdown",
      "metadata": {
        "id": "view-in-github",
        "colab_type": "text"
      },
      "source": [
        "<a href=\"https://colab.research.google.com/github/brugalbryan/Artificial-Intelligence/blob/main/Linear%20Models.ipynb\" target=\"_parent\"><img src=\"https://colab.research.google.com/assets/colab-badge.svg\" alt=\"Open In Colab\"/></a>"
      ]
    },
    {
      "cell_type": "code",
      "metadata": {
        "colab": {
          "base_uri": "https://localhost:8080/",
          "height": 204
        },
        "id": "rVrqUa9Jjlos",
        "outputId": "e09a9c48-7b26-4fe7-f1e3-6d225076fe66"
      },
      "source": [
        "import numpy as np\n",
        "import pandas as pd\n",
        "# import matplotlib.pyplot as plt\n",
        "# %matplotlib inline\n",
        "url = \"https://www.statlearning.com/s/Advertising.csv\"\n",
        "data = pd.read_csv(url, index_col=0)\n",
        "data.head()\n"
      ],
      "execution_count": null,
      "outputs": [
        {
          "output_type": "execute_result",
          "data": {
            "text/html": [
              "<div>\n",
              "<style scoped>\n",
              "    .dataframe tbody tr th:only-of-type {\n",
              "        vertical-align: middle;\n",
              "    }\n",
              "\n",
              "    .dataframe tbody tr th {\n",
              "        vertical-align: top;\n",
              "    }\n",
              "\n",
              "    .dataframe thead th {\n",
              "        text-align: right;\n",
              "    }\n",
              "</style>\n",
              "<table border=\"1\" class=\"dataframe\">\n",
              "  <thead>\n",
              "    <tr style=\"text-align: right;\">\n",
              "      <th></th>\n",
              "      <th>TV</th>\n",
              "      <th>radio</th>\n",
              "      <th>newspaper</th>\n",
              "      <th>sales</th>\n",
              "    </tr>\n",
              "  </thead>\n",
              "  <tbody>\n",
              "    <tr>\n",
              "      <th>1</th>\n",
              "      <td>230.1</td>\n",
              "      <td>37.8</td>\n",
              "      <td>69.2</td>\n",
              "      <td>22.1</td>\n",
              "    </tr>\n",
              "    <tr>\n",
              "      <th>2</th>\n",
              "      <td>44.5</td>\n",
              "      <td>39.3</td>\n",
              "      <td>45.1</td>\n",
              "      <td>10.4</td>\n",
              "    </tr>\n",
              "    <tr>\n",
              "      <th>3</th>\n",
              "      <td>17.2</td>\n",
              "      <td>45.9</td>\n",
              "      <td>69.3</td>\n",
              "      <td>9.3</td>\n",
              "    </tr>\n",
              "    <tr>\n",
              "      <th>4</th>\n",
              "      <td>151.5</td>\n",
              "      <td>41.3</td>\n",
              "      <td>58.5</td>\n",
              "      <td>18.5</td>\n",
              "    </tr>\n",
              "    <tr>\n",
              "      <th>5</th>\n",
              "      <td>180.8</td>\n",
              "      <td>10.8</td>\n",
              "      <td>58.4</td>\n",
              "      <td>12.9</td>\n",
              "    </tr>\n",
              "  </tbody>\n",
              "</table>\n",
              "</div>"
            ],
            "text/plain": [
              "      TV  radio  newspaper  sales\n",
              "1  230.1   37.8       69.2   22.1\n",
              "2   44.5   39.3       45.1   10.4\n",
              "3   17.2   45.9       69.3    9.3\n",
              "4  151.5   41.3       58.5   18.5\n",
              "5  180.8   10.8       58.4   12.9"
            ]
          },
          "metadata": {
            "tags": []
          },
          "execution_count": 1
        }
      ]
    },
    {
      "cell_type": "code",
      "metadata": {
        "id": "C7h4PDaWlyh9"
      },
      "source": [
        "# Use train_test_split to split the data into training set (80%) and test set (20%).\n",
        "# Split the data set into training set (80%) and test set (20%)\n",
        "from sklearn.model_selection import train_test_split\n",
        "training_data, test_data = train_test_split(data, test_size=0.2)\n"
      ],
      "execution_count": null,
      "outputs": []
    },
    {
      "cell_type": "code",
      "metadata": {
        "colab": {
          "base_uri": "https://localhost:8080/"
        },
        "id": "lAYbk2U6ls3T",
        "outputId": "1c6b7cd1-db39-4c2f-f4fe-c8bbd568add9"
      },
      "source": [
        "# Build a multilinear regression model with 'TV', 'Radio', and 'newspaper' as input variables and 'sales' as output variable. \n",
        "# Name the model model_lr. \n",
        "\n",
        "from sklearn.linear_model import LinearRegression\n",
        "model_lr = LinearRegression()\n",
        "model_lr.fit(data[['TV', 'radio','newspaper']], data['sales'])\n",
        "\n",
        "\n"
      ],
      "execution_count": null,
      "outputs": [
        {
          "output_type": "execute_result",
          "data": {
            "text/plain": [
              "LinearRegression(copy_X=True, fit_intercept=True, n_jobs=None, normalize=False)"
            ]
          },
          "metadata": {
            "tags": []
          },
          "execution_count": 3
        }
      ]
    },
    {
      "cell_type": "code",
      "metadata": {
        "id": "63T8VWA6qbE5"
      },
      "source": [
        "# Train the model on the training set\n",
        "\n",
        "model_lr2 = LinearRegression()\n",
        "model_lr2.fit(training_data[['TV', 'radio','newspaper']], \\\n",
        " training_data['sales'])\n",
        "\n",
        "# obtain model predictions on the test set.\n",
        "predictions = model_lr2.predict(test_data[['TV', 'radio','newspaper']])\n",
        "\n"
      ],
      "execution_count": null,
      "outputs": []
    },
    {
      "cell_type": "code",
      "metadata": {
        "id": "XNCk7kGnubYJ"
      },
      "source": [
        "# Build a degree 2 polynomial regression model with 'TV', 'Radio', and 'newspaper' as input variables and 'sales' as output variable. \n",
        "\n",
        "from sklearn.preprocessing import PolynomialFeatures\n",
        "poly_features = PolynomialFeatures(degree=2, include_bias=False)\n",
        "poly_features.fit(training_data[['TV', 'radio','newspaper']], \\\n",
        " training_data['sales'])\n",
        "\n",
        "X_poly = poly_features.transform(training_data[['TV', 'radio','newspaper']])\n",
        "# print(X_poly[:5])\n",
        "\n",
        "# # Name the model model_pr2. Train the model on the training set\n",
        "\n",
        "model_pr = LinearRegression()\n",
        "model_pr.fit(X_poly, training_data['sales'])\n",
        "# print(model_pr.coef_, model_pr.intercept_)\n",
        "\n",
        "# # obtain model predictions on the test set.\n",
        "predictions_pr = model_pr.predict(X_poly)\n",
        "\n",
        "# predictions_pr = model_pr.predict(test_data[['TV', 'radio','newspaper']])"
      ],
      "execution_count": null,
      "outputs": []
    },
    {
      "cell_type": "code",
      "metadata": {
        "id": "JOMiYOcW55Na"
      },
      "source": [
        "# Build a degree 2 polynomial regression model with 'TV', 'Radio', and 'newspaper' as input variables and 'sales' as output variable. \n",
        "\n",
        "from sklearn.preprocessing import PolynomialFeatures\n",
        "poly_features = PolynomialFeatures(degree=2, include_bias=False)\n",
        "poly_features.fit(test_data[['TV', 'radio','newspaper']], \\\n",
        " test_data['sales'])\n",
        "\n",
        "tX_poly = poly_features.transform(test_data[['TV', 'radio','newspaper']])\n",
        "# print(tX_poly[:5])\n",
        "\n",
        "# # Name the model model_pr2. Train the model on the training set\n",
        "\n",
        "model_tpr = LinearRegression()\n",
        "model_tpr.fit(tX_poly, test_data['sales'])\n",
        "# print(model_tpr.coef_, model_tpr.intercept_)\n",
        "\n",
        "# # # obtain model predictions on the test set.\n",
        "predictions_tpr = model_pr.predict(tX_poly)\n",
        "# # predictions_pr = model_pr.predict(test_data[['TV', 'radio','newspaper']])"
      ],
      "execution_count": null,
      "outputs": []
    },
    {
      "cell_type": "code",
      "metadata": {
        "id": "f3smjiaizslv"
      },
      "source": [
        "# Build a degree 10 polynomial regression model with 'TV', 'Radio', and 'newspaper' as input variables and 'sales' as output variable. \n",
        "\n",
        "poly_features10 = PolynomialFeatures(degree=10, include_bias=False)\n",
        "poly_features10.fit(training_data[['TV', 'radio','newspaper']], \\\n",
        " training_data['sales'])\n",
        "\n",
        "X10_poly = poly_features10.transform(training_data[['TV', 'radio','newspaper']])\n",
        "# print(X10_poly[:5])\n",
        "\n",
        "# Name the model model_pr10. Train the model on the training set\n",
        "model_pr10 = LinearRegression()\n",
        "model_pr10.fit(X10_poly, training_data['sales'])\n",
        "# print(model_pr10.coef_, model_pr10.intercept_)\n",
        "\n",
        "# # obtain model predictions on the test set.\n",
        "predictions_pr10 = model_pr10.predict(X10_poly)\n",
        "\n",
        "# predictions_pr10 = model_pr10.predict(test_data[['TV', 'radio','newspaper']])\n",
        "\n",
        "\n",
        "\n"
      ],
      "execution_count": null,
      "outputs": []
    },
    {
      "cell_type": "code",
      "metadata": {
        "id": "DqMqw8I586Ys"
      },
      "source": [
        "# Build a degree 10 polynomial regression model with 'TV', 'Radio', and 'newspaper' as input variables and 'sales' as output variable. \n",
        "\n",
        "from sklearn.preprocessing import PolynomialFeatures\n",
        "poly_features = PolynomialFeatures(degree=10, include_bias=False)\n",
        "poly_features.fit(test_data[['TV', 'radio','newspaper']], \\\n",
        " test_data['sales'])\n",
        "\n",
        "tX10_poly = poly_features.transform(test_data[['TV', 'radio','newspaper']])\n",
        "# print(tX_poly[:5])\n",
        "\n",
        "# # Name the model model_pr2. Train the model on the training set\n",
        "\n",
        "model_tpr10 = LinearRegression()\n",
        "model_tpr10.fit(tX10_poly, test_data['sales'])\n",
        "# print(model_tpr10.coef_, model_tpr10.intercept_)\n",
        "\n",
        "# # # obtain model predictions on the test set.\n",
        "\n",
        "predictions_tpr10 = model_pr10.predict(tX10_poly)\n"
      ],
      "execution_count": null,
      "outputs": []
    },
    {
      "cell_type": "code",
      "metadata": {
        "colab": {
          "base_uri": "https://localhost:8080/"
        },
        "id": "V0TBeAHR1IgO",
        "outputId": "774e1f65-cd5f-45aa-ab4a-820e950ce693"
      },
      "source": [
        "# Calculate the test MSE of each model using the mean_squared_error function. # Which model gives the best MSE? The lower the value the better\n",
        "from sklearn.metrics import mean_squared_error\n",
        "\n",
        "predictions1 = model_lr2.predict(test_data[['TV', 'radio','newspaper']])\n",
        "mse1 = mean_squared_error(test_data[[\"sales\"]],predictions1)\n",
        "print(\"MSE:\", mse1)"
      ],
      "execution_count": null,
      "outputs": [
        {
          "output_type": "stream",
          "text": [
            "MSE: 2.6689200627393497\n"
          ],
          "name": "stdout"
        }
      ]
    },
    {
      "cell_type": "code",
      "metadata": {
        "colab": {
          "base_uri": "https://localhost:8080/"
        },
        "id": "G9Ho87eH4Wtt",
        "outputId": "b6c972be-f10c-4ebe-c8ac-61b507029091"
      },
      "source": [
        "# Calculate the MSE of the degree-2 polynomial regression\n",
        "MSE_tpr = mean_squared_error(test_data['sales'], predictions_tpr)\n",
        "print(\"MSE for degree-2 polynomial regression:\", MSE_tpr)"
      ],
      "execution_count": null,
      "outputs": [
        {
          "output_type": "stream",
          "text": [
            "MSE for degree-2 polynomial regression: 0.24046551666313665\n"
          ],
          "name": "stdout"
        }
      ]
    },
    {
      "cell_type": "code",
      "metadata": {
        "colab": {
          "base_uri": "https://localhost:8080/"
        },
        "id": "NQ2jeMne4cvX",
        "outputId": "46154302-afaf-4383-c7e0-000f8aa8c7ae"
      },
      "source": [
        "MSE_tpr10 = mean_squared_error(test_data['sales'], predictions_tpr10)\n",
        "print(\"MSE for degree-10 polynomial regression:\", MSE_tpr10)"
      ],
      "execution_count": null,
      "outputs": [
        {
          "output_type": "stream",
          "text": [
            "MSE for degree-10 polynomial regression: 136769.2527950758\n"
          ],
          "name": "stdout"
        }
      ]
    },
    {
      "cell_type": "code",
      "metadata": {
        "colab": {
          "base_uri": "https://localhost:8080/"
        },
        "id": "11yU5pUrAqbh",
        "outputId": "6f82b3df-c0c3-4b36-df58-de313046861a"
      },
      "source": [
        "# Optional but no required in the assigment MSE for training set:\n",
        "\n",
        "predictions = model_lr2.predict(training_data[['TV', 'radio','newspaper']])\n",
        "mse = mean_squared_error(training_data[[\"sales\"]],predictions)\n",
        "print(\"MSE for training set:\", mse)"
      ],
      "execution_count": null,
      "outputs": [
        {
          "output_type": "stream",
          "text": [
            "MSE for training set: 2.851322150042022\n"
          ],
          "name": "stdout"
        }
      ]
    },
    {
      "cell_type": "code",
      "metadata": {
        "colab": {
          "base_uri": "https://localhost:8080/"
        },
        "id": "JJF5m7lc40Pu",
        "outputId": "45d427d1-3778-435e-bf36-1db995516963"
      },
      "source": [
        "# Optional Calculate the MSE of the degree-2 polynomial regression\n",
        "\n",
        "MSE_pr = mean_squared_error(training_data['sales'], predictions_pr)\n",
        "print(\"MSE for training set degree-2 polynomial regression:\", MSE_pr)\n"
      ],
      "execution_count": null,
      "outputs": [
        {
          "output_type": "stream",
          "text": [
            "MSE for training set degree-2 polynomial regression: 0.39846523779778076\n"
          ],
          "name": "stdout"
        }
      ]
    },
    {
      "cell_type": "code",
      "metadata": {
        "colab": {
          "base_uri": "https://localhost:8080/"
        },
        "id": "Jkk_ORL0BJ6R",
        "outputId": "19a01420-e278-479e-ab7c-371fefdc3e33"
      },
      "source": [
        "# Optional Calculate the MSE of the degree-10 polynomial regression\n",
        "\n",
        "MSE_pr10 = mean_squared_error(training_data['sales'], predictions_pr10)\n",
        "print(\"MSE for training set degree-10 polynomial regression:\", MSE_pr10)"
      ],
      "execution_count": null,
      "outputs": [
        {
          "output_type": "stream",
          "text": [
            "MSE for training set degree-10 polynomial regression: 0.16468779438403391\n"
          ],
          "name": "stdout"
        }
      ]
    }
  ]
}