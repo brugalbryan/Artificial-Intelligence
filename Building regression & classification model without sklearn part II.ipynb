{
  "nbformat": 4,
  "nbformat_minor": 0,
  "metadata": {
    "colab": {
      "name": "Bryan Brugal, project Part II",
      "provenance": [],
      "include_colab_link": true
    },
    "kernelspec": {
      "name": "python3",
      "display_name": "Python 3"
    }
  },
  "cells": [
    {
      "cell_type": "markdown",
      "metadata": {
        "id": "view-in-github",
        "colab_type": "text"
      },
      "source": [
        "<a href=\"https://colab.research.google.com/github/brugalbryan/Artificial-Intelligence/blob/main/Building%20regression%20%26%20classification%20model%20without%20sklearn%20part%20II.ipynb\" target=\"_parent\"><img src=\"https://colab.research.google.com/assets/colab-badge.svg\" alt=\"Open In Colab\"/></a>"
      ]
    },
    {
      "cell_type": "markdown",
      "metadata": {
        "id": "laRpm7hK8pSi"
      },
      "source": [
        "# Artificial Intelligence Project\n",
        "\n",
        "*   List item\n",
        "*   List item\n",
        "\n",
        "\n",
        "\n",
        "In this project, you will build a regression model and a classification model from scratch. Please follow the instructions closely, and only use Python's Numpy, Pandas, and matplotlib library to complete this project. Using functions from `sklearn` is not allowed."
      ]
    },
    {
      "cell_type": "code",
      "metadata": {
        "id": "bo6dHwyJyEik"
      },
      "source": [
        "import numpy as np\n",
        "import pandas as pd\n",
        "import matplotlib.pyplot as plt\n",
        "%matplotlib inline"
      ],
      "execution_count": null,
      "outputs": []
    },
    {
      "cell_type": "markdown",
      "metadata": {
        "id": "TESGJJp2AVoN"
      },
      "source": [
        "## Part II: A Classification Model\n",
        "\n",
        "In this part, we will build a logistic regression model and evaluate its performance on the classifying the data. The dataset is as follows:\n"
      ]
    },
    {
      "cell_type": "code",
      "metadata": {
        "colab": {
          "base_uri": "https://localhost:8080/",
          "height": 266
        },
        "id": "an34K0ecAVql",
        "outputId": "130fe585-56a9-4654-dff0-c80f716408a2"
      },
      "source": [
        "data2 = pd.DataFrame([[5.0, 2.0, 1],\n",
        "                      [6.2, 3.4, 1],\n",
        "                      [4.9, 3.6, 0],\n",
        "                      [6.2, 2.2, 1],\n",
        "                      [5.7, 3.0, 1],\n",
        "                      [4.8, 3.4, 0],\n",
        "                      [5.0, 3.4, 0]],\n",
        "                     columns=[\"x1\", \"x2\", \"class\"])\n",
        "data2"
      ],
      "execution_count": null,
      "outputs": [
        {
          "output_type": "execute_result",
          "data": {
            "text/html": [
              "<div>\n",
              "<style scoped>\n",
              "    .dataframe tbody tr th:only-of-type {\n",
              "        vertical-align: middle;\n",
              "    }\n",
              "\n",
              "    .dataframe tbody tr th {\n",
              "        vertical-align: top;\n",
              "    }\n",
              "\n",
              "    .dataframe thead th {\n",
              "        text-align: right;\n",
              "    }\n",
              "</style>\n",
              "<table border=\"1\" class=\"dataframe\">\n",
              "  <thead>\n",
              "    <tr style=\"text-align: right;\">\n",
              "      <th></th>\n",
              "      <th>x1</th>\n",
              "      <th>x2</th>\n",
              "      <th>class</th>\n",
              "    </tr>\n",
              "  </thead>\n",
              "  <tbody>\n",
              "    <tr>\n",
              "      <th>0</th>\n",
              "      <td>5.0</td>\n",
              "      <td>2.0</td>\n",
              "      <td>1</td>\n",
              "    </tr>\n",
              "    <tr>\n",
              "      <th>1</th>\n",
              "      <td>6.2</td>\n",
              "      <td>3.4</td>\n",
              "      <td>1</td>\n",
              "    </tr>\n",
              "    <tr>\n",
              "      <th>2</th>\n",
              "      <td>4.9</td>\n",
              "      <td>3.6</td>\n",
              "      <td>0</td>\n",
              "    </tr>\n",
              "    <tr>\n",
              "      <th>3</th>\n",
              "      <td>6.2</td>\n",
              "      <td>2.2</td>\n",
              "      <td>1</td>\n",
              "    </tr>\n",
              "    <tr>\n",
              "      <th>4</th>\n",
              "      <td>5.7</td>\n",
              "      <td>3.0</td>\n",
              "      <td>1</td>\n",
              "    </tr>\n",
              "    <tr>\n",
              "      <th>5</th>\n",
              "      <td>4.8</td>\n",
              "      <td>3.4</td>\n",
              "      <td>0</td>\n",
              "    </tr>\n",
              "    <tr>\n",
              "      <th>6</th>\n",
              "      <td>5.0</td>\n",
              "      <td>3.4</td>\n",
              "      <td>0</td>\n",
              "    </tr>\n",
              "  </tbody>\n",
              "</table>\n",
              "</div>"
            ],
            "text/plain": [
              "    x1   x2  class\n",
              "0  5.0  2.0      1\n",
              "1  6.2  3.4      1\n",
              "2  4.9  3.6      0\n",
              "3  6.2  2.2      1\n",
              "4  5.7  3.0      1\n",
              "5  4.8  3.4      0\n",
              "6  5.0  3.4      0"
            ]
          },
          "metadata": {
            "tags": []
          },
          "execution_count": 2
        }
      ]
    },
    {
      "cell_type": "markdown",
      "metadata": {
        "id": "xSoBjGdmAVvj"
      },
      "source": [
        "### Task 1: Data Visualization (10 pts)\n",
        "Visualize the data as a scatter plot. Show class 0 records as green dots and class 1 records as blue dots. Display the following items:\n",
        "- Title of the plot: Distribution of the training data\n",
        "- Label for x axis: x1\n",
        "- Label for y axis: x2\n",
        "- Legend"
      ]
    },
    {
      "cell_type": "code",
      "metadata": {
        "id": "tJ3yYz2TEFtU",
        "colab": {
          "base_uri": "https://localhost:8080/",
          "height": 366
        },
        "outputId": "df42bddd-6a06-4300-e38c-270a91ce34eb"
      },
      "source": [
        "import pandas as pd\n",
        "import matplotlib.pyplot as plt\n",
        "import seaborn as sns\n",
        "\n",
        "colors = {0:'green',1:'blue'}\n",
        "plt.title('Distribution of the training data')\n",
        "sns.scatterplot(\"x1\",\"x2\",hue=\"class\",data = data2,palette=colors)\n"
      ],
      "execution_count": null,
      "outputs": [
        {
          "output_type": "stream",
          "text": [
            "/usr/local/lib/python3.7/dist-packages/seaborn/_decorators.py:43: FutureWarning: Pass the following variables as keyword args: x, y. From version 0.12, the only valid positional argument will be `data`, and passing other arguments without an explicit keyword will result in an error or misinterpretation.\n",
            "  FutureWarning\n"
          ],
          "name": "stderr"
        },
        {
          "output_type": "execute_result",
          "data": {
            "text/plain": [
              "<matplotlib.axes._subplots.AxesSubplot at 0x7f8ca0817f10>"
            ]
          },
          "metadata": {
            "tags": []
          },
          "execution_count": 3
        },
        {
          "output_type": "display_data",
          "data": {
            "image/png": "[encoded data removed]",
            "text/plain": [
              "<Figure size 432x288 with 1 Axes>"
            ]
          },
          "metadata": {
            "tags": [],
            "needs_background": "light"
          }
        }
      ]
    },
    {
      "cell_type": "markdown",
      "metadata": {
        "id": "ci_icuTREOxj"
      },
      "source": [
        "### Task 2: Apply A Logistic Regression Model (10 pts)\n",
        "\n",
        "Suppose that you are given a logistic regression model with explicity paramter values:\n",
        "\n",
        "$p = \\sigma(\\textbf{x}\\cdot\\theta^T).$\n",
        "\n",
        "where\n",
        "- p: the probability that the point belongs to class 1.\n",
        "- $\\textbf{x} = (1, x_1, x_2)$.\n",
        "- $\\theta = (\\theta_0, \\theta_1, \\theta_2) = (-2.15, 0.92, -0.82)$.\n",
        "- $\\sigma(t) = \\frac{1}{1+e^{-t}}$\n",
        "\n",
        "Find the model's prediction on the following test set:"
      ]
    },
    {
      "cell_type": "code",
      "metadata": {
        "colab": {
          "base_uri": "https://localhost:8080/",
          "height": 173
        },
        "id": "7gOdAR4pGWOW",
        "outputId": "a50ed3db-8238-4bcb-c4ae-ef4f46e2235f"
      },
      "source": [
        "data3 = pd.DataFrame([[5.1, 3.4, 0],\n",
        "                      [6.5, 2.8, 1],\n",
        "                      [5.8, 2.7, 1],\n",
        "                      [4.6, 3.1, 0]],\n",
        "                     columns=[\"x1\", \"x2\", \"class\"])\n",
        "data3"
      ],
      "execution_count": null,
      "outputs": [
        {
          "output_type": "execute_result",
          "data": {
            "text/html": [
              "<div>\n",
              "<style scoped>\n",
              "    .dataframe tbody tr th:only-of-type {\n",
              "        vertical-align: middle;\n",
              "    }\n",
              "\n",
              "    .dataframe tbody tr th {\n",
              "        vertical-align: top;\n",
              "    }\n",
              "\n",
              "    .dataframe thead th {\n",
              "        text-align: right;\n",
              "    }\n",
              "</style>\n",
              "<table border=\"1\" class=\"dataframe\">\n",
              "  <thead>\n",
              "    <tr style=\"text-align: right;\">\n",
              "      <th></th>\n",
              "      <th>x1</th>\n",
              "      <th>x2</th>\n",
              "      <th>class</th>\n",
              "    </tr>\n",
              "  </thead>\n",
              "  <tbody>\n",
              "    <tr>\n",
              "      <th>0</th>\n",
              "      <td>5.1</td>\n",
              "      <td>3.4</td>\n",
              "      <td>0</td>\n",
              "    </tr>\n",
              "    <tr>\n",
              "      <th>1</th>\n",
              "      <td>6.5</td>\n",
              "      <td>2.8</td>\n",
              "      <td>1</td>\n",
              "    </tr>\n",
              "    <tr>\n",
              "      <th>2</th>\n",
              "      <td>5.8</td>\n",
              "      <td>2.7</td>\n",
              "      <td>1</td>\n",
              "    </tr>\n",
              "    <tr>\n",
              "      <th>3</th>\n",
              "      <td>4.6</td>\n",
              "      <td>3.1</td>\n",
              "      <td>0</td>\n",
              "    </tr>\n",
              "  </tbody>\n",
              "</table>\n",
              "</div>"
            ],
            "text/plain": [
              "    x1   x2  class\n",
              "0  5.1  3.4      0\n",
              "1  6.5  2.8      1\n",
              "2  5.8  2.7      1\n",
              "3  4.6  3.1      0"
            ]
          },
          "metadata": {
            "tags": []
          },
          "execution_count": 4
        }
      ]
    },
    {
      "cell_type": "code",
      "metadata": {
        "colab": {
          "base_uri": "https://localhost:8080/",
          "height": 190
        },
        "id": "dqMyuyEMjjdQ",
        "outputId": "fe2835e4-81d2-4d9a-e0dc-483c48e57594"
      },
      "source": [
        "array1 = list(data3['x1'])\n",
        "array2 = list(data3['x2'])\n",
        "actual = list(data3['class'])\n",
        "\n",
        "\n",
        "theta = [-2.15, 0.92, -0.82]\n",
        "\n",
        "test_pred = []\n",
        "df_prediction = []\n",
        "\n",
        "for i in range(len(array1)):\n",
        "    t = theta[0] + theta[1]*array1[i] +theta[2]*array2[i]\n",
        "    \n",
        "    y = 1/(1+np.e**(-t))\n",
        "    df_prediction.append(y)\n",
        "    if (y>0.5):\n",
        "        test_pred.append(1)\n",
        "    else:\n",
        "        test_pred.append(0)\n",
        "\n",
        "\n",
        "data3[\"Is_Virginica\"] = test_pred\n",
        "print(\"model's prediction on the following test set:\")  \n",
        "data3.head()"
      ],
      "execution_count": null,
      "outputs": [
        {
          "output_type": "stream",
          "text": [
            "model's prediction on the following test set:\n"
          ],
          "name": "stdout"
        },
        {
          "output_type": "execute_result",
          "data": {
            "text/html": [
              "<div>\n",
              "<style scoped>\n",
              "    .dataframe tbody tr th:only-of-type {\n",
              "        vertical-align: middle;\n",
              "    }\n",
              "\n",
              "    .dataframe tbody tr th {\n",
              "        vertical-align: top;\n",
              "    }\n",
              "\n",
              "    .dataframe thead th {\n",
              "        text-align: right;\n",
              "    }\n",
              "</style>\n",
              "<table border=\"1\" class=\"dataframe\">\n",
              "  <thead>\n",
              "    <tr style=\"text-align: right;\">\n",
              "      <th></th>\n",
              "      <th>x1</th>\n",
              "      <th>x2</th>\n",
              "      <th>class</th>\n",
              "      <th>Is_Virginica</th>\n",
              "    </tr>\n",
              "  </thead>\n",
              "  <tbody>\n",
              "    <tr>\n",
              "      <th>0</th>\n",
              "      <td>5.1</td>\n",
              "      <td>3.4</td>\n",
              "      <td>0</td>\n",
              "      <td>0</td>\n",
              "    </tr>\n",
              "    <tr>\n",
              "      <th>1</th>\n",
              "      <td>6.5</td>\n",
              "      <td>2.8</td>\n",
              "      <td>1</td>\n",
              "      <td>1</td>\n",
              "    </tr>\n",
              "    <tr>\n",
              "      <th>2</th>\n",
              "      <td>5.8</td>\n",
              "      <td>2.7</td>\n",
              "      <td>1</td>\n",
              "      <td>1</td>\n",
              "    </tr>\n",
              "    <tr>\n",
              "      <th>3</th>\n",
              "      <td>4.6</td>\n",
              "      <td>3.1</td>\n",
              "      <td>0</td>\n",
              "      <td>0</td>\n",
              "    </tr>\n",
              "  </tbody>\n",
              "</table>\n",
              "</div>"
            ],
            "text/plain": [
              "    x1   x2  class  Is_Virginica\n",
              "0  5.1  3.4      0             0\n",
              "1  6.5  2.8      1             1\n",
              "2  5.8  2.7      1             1\n",
              "3  4.6  3.1      0             0"
            ]
          },
          "metadata": {
            "tags": []
          },
          "execution_count": 5
        }
      ]
    },
    {
      "cell_type": "markdown",
      "metadata": {
        "id": "HW5kVRygGo1j"
      },
      "source": [
        "### Task 3: Model Evaluation (40 pts)\n",
        "Calculate the following model metrics regarding the performance on the test set:\n",
        "- classification accuracy\n",
        "- precision score\n",
        "- recall score\n",
        "- F-1 score"
      ]
    },
    {
      "cell_type": "code",
      "metadata": {
        "id": "_cymkGXo-uRa",
        "colab": {
          "base_uri": "https://localhost:8080/"
        },
        "outputId": "f6a0792f-ff64-489d-f9f6-e515e4706d2a"
      },
      "source": [
        "# Classification Accuracy\n",
        "num_true_negatives = 0\n",
        "num_true_positives = 0\n",
        "num_false_positives = 0\n",
        "num_false_negatives = 0\n",
        "\n",
        "# num_true_positives / (num_true_positives + num_false_positives\n",
        "\n",
        "for i in range(len(test_pred)):\n",
        "    if(actual[i]==0):\n",
        "        if(test_pred[i] == 0):\n",
        "            num_true_negatives = num_true_negatives + 1\n",
        "        else:\n",
        "            num_false_negatives = num_false_negatives + 1\n",
        "    else:\n",
        "        if(test_pred[i] == 1):\n",
        "            num_true_positives = num_true_positives + 1\n",
        "        else:\n",
        "            num_false_positives = num_false_positives + 1\n",
        "\n",
        "accuracyScore = ((num_true_positives + num_true_negatives) /  \\\n",
        "                 (num_true_positives + num_true_negatives + num_false_positives + num_false_negatives))\n",
        "print('Classification Accuracy: ',accuracyScore)\n"
      ],
      "execution_count": null,
      "outputs": [
        {
          "output_type": "stream",
          "text": [
            "Classification Accuracy:  1.0\n"
          ],
          "name": "stdout"
        }
      ]
    },
    {
      "cell_type": "code",
      "metadata": {
        "id": "-RJyTLUgHYWO",
        "colab": {
          "base_uri": "https://localhost:8080/"
        },
        "outputId": "afd5d4d8-1d1e-42e9-89d5-a9dd40ce4640"
      },
      "source": [
        "# Precision Score\n",
        "precisionScore = (num_true_positives / (num_true_positives + num_false_positives))\n",
        "print('Precision Score: ',precisionScore)"
      ],
      "execution_count": null,
      "outputs": [
        {
          "output_type": "stream",
          "text": [
            "Precision Score:  1.0\n"
          ],
          "name": "stdout"
        }
      ]
    },
    {
      "cell_type": "code",
      "metadata": {
        "id": "ADK-WMCrHZQA",
        "colab": {
          "base_uri": "https://localhost:8080/"
        },
        "outputId": "df7e4e60-dd05-4aa8-d978-a40b5e083619"
      },
      "source": [
        "# Recall Score\n",
        "recallScore = (num_true_positives/(num_true_positives + num_false_negatives))\n",
        "print('Recall Score: ',recallScore)\n"
      ],
      "execution_count": null,
      "outputs": [
        {
          "output_type": "stream",
          "text": [
            "Recall Score:  1.0\n"
          ],
          "name": "stdout"
        }
      ]
    },
    {
      "cell_type": "code",
      "metadata": {
        "id": "yp903_hxHaGk",
        "colab": {
          "base_uri": "https://localhost:8080/"
        },
        "outputId": "2b1f61e3-5945-4040-e82f-2aa423f08503"
      },
      "source": [
        "# F-1 Score\n",
        "# F1 Score is the 2*((precision*recall)/(precision+recall))\n",
        "f1 = ((2* precisionScore * recallScore)/(precisionScore + recallScore))\n",
        "print('F-1 Score: ',f1)\n"
      ],
      "execution_count": null,
      "outputs": [
        {
          "output_type": "stream",
          "text": [
            "F-1 Score:  1.0\n"
          ],
          "name": "stdout"
        }
      ]
    }
  ]
}