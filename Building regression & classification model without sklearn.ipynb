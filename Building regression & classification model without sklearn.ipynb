{
  "nbformat": 4,
  "nbformat_minor": 0,
  "metadata": {
    "colab": {
      "name": "Bryan Brugal MidtermProject Part I",
      "provenance": [],
      "include_colab_link": true
    },
    "kernelspec": {
      "name": "python3",
      "display_name": "Python 3"
    }
  },
  "cells": [
    {
      "cell_type": "markdown",
      "metadata": {
        "id": "view-in-github",
        "colab_type": "text"
      },
      "source": [
        "<a href=\"https://colab.research.google.com/github/brugalbryan/Artificial-Intelligence/blob/main/Building%20regression%20%26%20classification%20model%20without%20sklearn.ipynb\" target=\"_parent\"><img src=\"https://colab.research.google.com/assets/colab-badge.svg\" alt=\"Open In Colab\"/></a>"
      ]
    },
    {
      "cell_type": "markdown",
      "metadata": {
        "id": "laRpm7hK8pSi"
      },
      "source": [
        "# Artificial Intelligence\n",
        "\n",
        "In this project, you will build a regression model and a classification model from scratch. Please follow the instructions closely, and only use Python's Numpy, Pandas, and matplotlib library to complete this project. Using functions from `sklearn` is not allowed."
      ]
    },
    {
      "cell_type": "code",
      "metadata": {
        "id": "bo6dHwyJyEik"
      },
      "source": [
        "import numpy as np\n",
        "import pandas as pd\n",
        "import matplotlib.pyplot as plt\n",
        "%matplotlib inline"
      ],
      "execution_count": null,
      "outputs": []
    },
    {
      "cell_type": "markdown",
      "metadata": {
        "id": "V4Jn_QfFyP08"
      },
      "source": [
        "## Part I: A Regression Model\n",
        "\n",
        "In this part, please build a multilinear regression model that extracts the relationship between housing prices and other relevant variables. The training data is shown in the table below:\n"
      ]
    },
    {
      "cell_type": "code",
      "metadata": {
        "colab": {
          "base_uri": "https://localhost:8080/",
          "height": 204
        },
        "id": "goxKcZMU8uwh",
        "outputId": "7b6362a6-6955-4733-b09f-35022d92a0f7"
      },
      "source": [
        "data = pd.DataFrame({\n",
        "    \"YearBuilt\": [1974, 1996, 1968, 1962, 1960],\n",
        "    \"YearSold\": [2015, 2017, 2020, 2010, 2016],\n",
        "    \"Bedrooms\": [3, 10, 4, 5, 6],\n",
        "    \"TotalArea\": [1500, 4000, 1700, 2500, 2000],\n",
        "    \"Quality\": [7.5, 6, 4, 5.5, 5],\n",
        "    \"Price\": [358500, 452600, 352100, 341300, 342200]\n",
        "})\n",
        "\n",
        "data"
      ],
      "execution_count": null,
      "outputs": [
        {
          "output_type": "execute_result",
          "data": {
            "text/html": [
              "<div>\n",
              "<style scoped>\n",
              "    .dataframe tbody tr th:only-of-type {\n",
              "        vertical-align: middle;\n",
              "    }\n",
              "\n",
              "    .dataframe tbody tr th {\n",
              "        vertical-align: top;\n",
              "    }\n",
              "\n",
              "    .dataframe thead th {\n",
              "        text-align: right;\n",
              "    }\n",
              "</style>\n",
              "<table border=\"1\" class=\"dataframe\">\n",
              "  <thead>\n",
              "    <tr style=\"text-align: right;\">\n",
              "      <th></th>\n",
              "      <th>YearBuilt</th>\n",
              "      <th>YearSold</th>\n",
              "      <th>Bedrooms</th>\n",
              "      <th>TotalArea</th>\n",
              "      <th>Quality</th>\n",
              "      <th>Price</th>\n",
              "    </tr>\n",
              "  </thead>\n",
              "  <tbody>\n",
              "    <tr>\n",
              "      <th>0</th>\n",
              "      <td>1974</td>\n",
              "      <td>2015</td>\n",
              "      <td>3</td>\n",
              "      <td>1500</td>\n",
              "      <td>7.5</td>\n",
              "      <td>358500</td>\n",
              "    </tr>\n",
              "    <tr>\n",
              "      <th>1</th>\n",
              "      <td>1996</td>\n",
              "      <td>2017</td>\n",
              "      <td>10</td>\n",
              "      <td>4000</td>\n",
              "      <td>6.0</td>\n",
              "      <td>452600</td>\n",
              "    </tr>\n",
              "    <tr>\n",
              "      <th>2</th>\n",
              "      <td>1968</td>\n",
              "      <td>2020</td>\n",
              "      <td>4</td>\n",
              "      <td>1700</td>\n",
              "      <td>4.0</td>\n",
              "      <td>352100</td>\n",
              "    </tr>\n",
              "    <tr>\n",
              "      <th>3</th>\n",
              "      <td>1962</td>\n",
              "      <td>2010</td>\n",
              "      <td>5</td>\n",
              "      <td>2500</td>\n",
              "      <td>5.5</td>\n",
              "      <td>341300</td>\n",
              "    </tr>\n",
              "    <tr>\n",
              "      <th>4</th>\n",
              "      <td>1960</td>\n",
              "      <td>2016</td>\n",
              "      <td>6</td>\n",
              "      <td>2000</td>\n",
              "      <td>5.0</td>\n",
              "      <td>342200</td>\n",
              "    </tr>\n",
              "  </tbody>\n",
              "</table>\n",
              "</div>"
            ],
            "text/plain": [
              "   YearBuilt  YearSold  Bedrooms  TotalArea  Quality   Price\n",
              "0       1974      2015         3       1500      7.5  358500\n",
              "1       1996      2017        10       4000      6.0  452600\n",
              "2       1968      2020         4       1700      4.0  352100\n",
              "3       1962      2010         5       2500      5.5  341300\n",
              "4       1960      2016         6       2000      5.0  342200"
            ]
          },
          "metadata": {
            "tags": []
          },
          "execution_count": 2
        }
      ]
    },
    {
      "cell_type": "markdown",
      "metadata": {
        "id": "Yk67CJ87BqaU"
      },
      "source": [
        "### Task 1: Data Transformation\n",
        "Create a new column named \"Age\" that represents the age of each house when it was sold."
      ]
    },
    {
      "cell_type": "code",
      "metadata": {
        "id": "cs9awohjBqMT",
        "colab": {
          "base_uri": "https://localhost:8080/",
          "height": 204
        },
        "outputId": "9886838c-0bda-4cc6-f9d3-0e09c5a973df"
      },
      "source": [
        "data['Age'] = data['YearSold'] - data['YearBuilt']\n",
        "data"
      ],
      "execution_count": null,
      "outputs": [
        {
          "output_type": "execute_result",
          "data": {
            "text/html": [
              "<div>\n",
              "<style scoped>\n",
              "    .dataframe tbody tr th:only-of-type {\n",
              "        vertical-align: middle;\n",
              "    }\n",
              "\n",
              "    .dataframe tbody tr th {\n",
              "        vertical-align: top;\n",
              "    }\n",
              "\n",
              "    .dataframe thead th {\n",
              "        text-align: right;\n",
              "    }\n",
              "</style>\n",
              "<table border=\"1\" class=\"dataframe\">\n",
              "  <thead>\n",
              "    <tr style=\"text-align: right;\">\n",
              "      <th></th>\n",
              "      <th>YearBuilt</th>\n",
              "      <th>YearSold</th>\n",
              "      <th>Bedrooms</th>\n",
              "      <th>TotalArea</th>\n",
              "      <th>Quality</th>\n",
              "      <th>Price</th>\n",
              "      <th>Age</th>\n",
              "    </tr>\n",
              "  </thead>\n",
              "  <tbody>\n",
              "    <tr>\n",
              "      <th>0</th>\n",
              "      <td>1974</td>\n",
              "      <td>2015</td>\n",
              "      <td>3</td>\n",
              "      <td>1500</td>\n",
              "      <td>7.5</td>\n",
              "      <td>358500</td>\n",
              "      <td>41</td>\n",
              "    </tr>\n",
              "    <tr>\n",
              "      <th>1</th>\n",
              "      <td>1996</td>\n",
              "      <td>2017</td>\n",
              "      <td>10</td>\n",
              "      <td>4000</td>\n",
              "      <td>6.0</td>\n",
              "      <td>452600</td>\n",
              "      <td>21</td>\n",
              "    </tr>\n",
              "    <tr>\n",
              "      <th>2</th>\n",
              "      <td>1968</td>\n",
              "      <td>2020</td>\n",
              "      <td>4</td>\n",
              "      <td>1700</td>\n",
              "      <td>4.0</td>\n",
              "      <td>352100</td>\n",
              "      <td>52</td>\n",
              "    </tr>\n",
              "    <tr>\n",
              "      <th>3</th>\n",
              "      <td>1962</td>\n",
              "      <td>2010</td>\n",
              "      <td>5</td>\n",
              "      <td>2500</td>\n",
              "      <td>5.5</td>\n",
              "      <td>341300</td>\n",
              "      <td>48</td>\n",
              "    </tr>\n",
              "    <tr>\n",
              "      <th>4</th>\n",
              "      <td>1960</td>\n",
              "      <td>2016</td>\n",
              "      <td>6</td>\n",
              "      <td>2000</td>\n",
              "      <td>5.0</td>\n",
              "      <td>342200</td>\n",
              "      <td>56</td>\n",
              "    </tr>\n",
              "  </tbody>\n",
              "</table>\n",
              "</div>"
            ],
            "text/plain": [
              "   YearBuilt  YearSold  Bedrooms  TotalArea  Quality   Price  Age\n",
              "0       1974      2015         3       1500      7.5  358500   41\n",
              "1       1996      2017        10       4000      6.0  452600   21\n",
              "2       1968      2020         4       1700      4.0  352100   52\n",
              "3       1962      2010         5       2500      5.5  341300   48\n",
              "4       1960      2016         6       2000      5.0  342200   56"
            ]
          },
          "metadata": {
            "tags": []
          },
          "execution_count": 3
        }
      ]
    },
    {
      "cell_type": "markdown",
      "metadata": {
        "id": "kBzHY7sj-6P5"
      },
      "source": [
        "### Task 2: Train a Multilinear Model\n",
        "\n",
        "*   List item\n",
        "*   List item\n",
        "\n",
        "\n",
        "Assume that the price can be expressed as a linear combination of age, bedrooms, total area, and quality:\n",
        "\n",
        "$Price = \\theta_0 + \\theta_1 \\cdot Age + \\theta_2 \\cdot Bedrooms + \\theta_3 \\cdot TotalArea + \\theta_4 \\cdot Quality.$\n",
        "\n",
        "Apply the normal equation to find the best values for the parameters:\n",
        "1. Construct matrix $\\textbf{X}$ and $\\textbf{y}$ (the matrices are defined in Week 6 notebook and Chapter 4 of the textbook).\n",
        "2. Calculate the parameter vector using the normal equation\n",
        "$\\theta = \\big(\\textbf{X}^T\\cdot\\textbf{X}\\big)^{-1}\\cdot\\textbf{X}^T\\cdot\\textbf{y}$"
      ]
    },
    {
      "cell_type": "code",
      "metadata": {
        "id": "E_K5F4oD-S6Y",
        "colab": {
          "base_uri": "https://localhost:8080/"
        },
        "outputId": "ac23e9dd-805d-4db1-b497-4ebf004a23fb"
      },
      "source": [
        "# Construct matrix X using np.hstack(), np.ones()\n",
        "\n",
        "# 1. Construct a column of ones\n",
        "m, n = data.shape\n",
        "X = np.hstack([np.ones([m, 1]), data[['Age',\t'Bedrooms',\t'TotalArea',\t'Quality']].values])\n",
        "print(X)\n"
      ],
      "execution_count": null,
      "outputs": [
        {
          "output_type": "stream",
          "text": [
            "[[1.0e+00 4.1e+01 3.0e+00 1.5e+03 7.5e+00]\n",
            " [1.0e+00 2.1e+01 1.0e+01 4.0e+03 6.0e+00]\n",
            " [1.0e+00 5.2e+01 4.0e+00 1.7e+03 4.0e+00]\n",
            " [1.0e+00 4.8e+01 5.0e+00 2.5e+03 5.5e+00]\n",
            " [1.0e+00 5.6e+01 6.0e+00 2.0e+03 5.0e+00]]\n"
          ],
          "name": "stdout"
        }
      ]
    },
    {
      "cell_type": "code",
      "metadata": {
        "colab": {
          "base_uri": "https://localhost:8080/"
        },
        "id": "JLhHoaqDA1EM",
        "outputId": "82980000-b4df-47e5-d794-b5c99dfdbf52"
      },
      "source": [
        "# Construct vector y\n",
        "y = data[['Price']].values\n",
        "print(y)"
      ],
      "execution_count": null,
      "outputs": [
        {
          "output_type": "stream",
          "text": [
            "[[358500]\n",
            " [452600]\n",
            " [352100]\n",
            " [341300]\n",
            " [342200]]\n"
          ],
          "name": "stdout"
        }
      ]
    },
    {
      "cell_type": "code",
      "metadata": {
        "colab": {
          "base_uri": "https://localhost:8080/"
        },
        "id": "QodRFg6_A8QR",
        "outputId": "f6920507-c7d5-4906-ae3f-10fb2cc34209"
      },
      "source": [
        "# Apply the normal equation to find theta\n",
        "\n",
        "theta = np.linalg.inv(X.T.dot(X)).dot(X.T).dot(y)\n",
        "\n",
        "print(\"Theta:\", theta)"
      ],
      "execution_count": null,
      "outputs": [
        {
          "output_type": "stream",
          "text": [
            "Theta: [[ 5.92376387e+05]\n",
            " [-3.83925328e+03]\n",
            " [ 1.17271948e+04]\n",
            " [-3.11089808e+01]\n",
            " [-8.66468214e+03]]\n"
          ],
          "name": "stdout"
        }
      ]
    },
    {
      "cell_type": "markdown",
      "metadata": {
        "id": "CYhiUFfuAVjM"
      },
      "source": [
        "### Task 3: Make A Prediction\n",
        "Suppose that there is another house with the following attribute:\n",
        "- YearBuilt: 1985\n",
        "- YearSold: 2021\n",
        "- Bedrooms: 6\n",
        "- Total Area: 2500\n",
        "- Quality: 5.5\n",
        "\n",
        "Use the parameter values that you have calculated to make a prediction on its sale price."
      ]
    },
    {
      "cell_type": "code",
      "metadata": {
        "id": "RxMICEwzAVll",
        "colab": {
          "base_uri": "https://localhost:8080/"
        },
        "outputId": "0bd59450-3eff-4c59-92be-f72fb8782e49"
      },
      "source": [
        "# Let's use the vector form to get the prediction.\n",
        "# prediction = inner-product of the parameter vector and the feature vector.\n",
        "parameter_vector = np.array([5.92376387e+05,  -3.83925328e+03, 1.17271948e+04,  -3.11089808e+01, -8.66468214e+03])\n",
        "feature_vector = np.array([1, 36, 6, 2500, 5.5])\n",
        "\n",
        "prediction = parameter_vector.dot(feature_vector)\n",
        "\n",
        "print('prediction on its sale price:', round(prediction))\n"
      ],
      "execution_count": null,
      "outputs": [
        {
          "output_type": "stream",
          "text": [
            "prediction on its sale price: 399098\n"
          ],
          "name": "stdout"
        }
      ]
    }
  ]
}